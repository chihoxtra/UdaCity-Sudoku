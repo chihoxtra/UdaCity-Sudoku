{
 "cells": [
  {
   "cell_type": "code",
   "execution_count": 28,
   "metadata": {
    "nbpresent": {
     "id": "cbe0267f-bdce-47a9-9e9c-3c79b7f69136"
    }
   },
   "outputs": [],
   "source": [
    "from utils import *\n",
    "\n",
    "row_units = [cross(r, cols) for r in rows]\n",
    "column_units = [cross(rows, c) for c in cols]\n",
    "square_units = [cross(rs, cs) for rs in ('ABC','DEF','GHI') for cs in ('123','456','789')]\n",
    "\n",
    "#custom:\n",
    "diag_units = [[(rows[i]+cols[i]) for i in range(len(rows))],[(rows[i]+cols[8-i]) for i in (range((len(rows))))]]\n",
    "diagGame = True\n",
    "\n",
    "unitlist = row_units + column_units + square_units\n",
    "\n",
    "# TODO: Update the unit list to add the new diagonal units\n",
    "if diagGame == True:\n",
    "    unitlist = unitlist + diag_units\n",
    "\n",
    "units = dict((s, [u for u in unitlist if s in u]) for s in boxes)\n",
    "peers = dict((s, set(sum(units[s],[]))-set([s])) for s in boxes)\n",
    "\n"
   ]
  },
  {
   "cell_type": "code",
   "execution_count": 29,
   "metadata": {},
   "outputs": [],
   "source": [
    "nakedTwinsTestValue1 = {'I6': '4', 'H9': '3', 'I2': '6', 'E8': '1', 'H3': '5', 'H7': '8', \n",
    "                        'I7': '1', 'I4': '8', 'H5': '6', 'F9': '7', 'G7': '6', 'G6': '3', \n",
    "                        'G5': '2', 'E1': '8', 'G3': '1', 'G2': '8', 'G1': '7', 'I1': '23', \n",
    "                        'C8': '5', 'I3': '23', 'E5': '347', 'I5': '5', 'C9': '1', 'G9': '5', \n",
    "                        'G8': '4', 'A1': '1', 'A3': '4', 'A2': '237', 'A5': '9', 'A4': '2357', \n",
    "                        'A7': '27', 'A6': '257', 'C3': '8', 'C2': '237', 'C1': '23', 'E6': '579', \n",
    "                        'C7': '9', 'C6': '6', 'C5': '37', 'C4': '4', 'I9': '9', 'D8': '8', \n",
    "                        'I8': '7', 'E4': '6', 'D9': '6', 'H8': '2', 'F6': '125', 'A9': '8', \n",
    "                        'G4': '9', 'A8': '6', 'E7': '345', 'E3': '379', 'F1': '6', 'F2': '4', \n",
    "                        'F3': '23', 'F4': '1235', 'F5': '8', 'E2': '37', 'F7': '35', 'F8': '9', \n",
    "                        'D2': '1', 'H1': '4', 'H6': '17', 'H2': '9', 'H4': '17', 'D3': '2379', \n",
    "                        'B4': '27', 'B5': '1', 'B6': '8', 'B7': '27', 'E9': '2', 'B1': '9', \n",
    "                        'B2': '5', 'B3': '6', 'D6': '279', 'D7': '34', 'D4': '237', 'D5': '347', \n",
    "                        'B8': '3', 'B9': '4', 'D1': '5'}\n",
    "\n",
    "\n",
    "nakedTwinsTestValue2 = {\"C3\": \"4678\", \"I1\": \"123678\", \"F2\": \"7\", \"F9\": \"1234568\", \"A2\": \"9\",\n",
    "                    \"E9\": \"12345678\", \"H3\": \"2456789\", \"A6\": \"7\", \"A9\": \"2346\", \"F6\":\n",
    "                    \"23568\", \"F7\": \"1234568\", \"D6\": \"23568\", \"D4\": \"23678\", \"B5\": \"46\",\n",
    "                    \"C9\": \"13456\", \"I2\": \"123568\", \"H8\": \"234567\", \"G4\": \"23678\", \"B7\":\n",
    "                    \"7\", \"D8\": \"1235679\", \"G2\": \"123568\", \"I5\": \"35678\", \"H7\": \"234568\",\n",
    "                    \"C7\": \"13456\", \"E3\": \"25689\", \"A7\": \"2346\", \"E5\": \"13456789\", \"C1\":\n",
    "                    \"4678\", \"F3\": \"25689\", \"D3\": \"25689\", \"D7\": \"123568\", \"F4\": \"23468\",\n",
    "                    \"H1\": \"2346789\", \"C6\": \"368\", \"I4\": \"23678\", \"E7\": \"1234568\", \"I6\":\n",
    "                    \"4\", \"E8\": \"12345679\", \"G8\": \"1234567\", \"D1\": \"123689\", \"I9\":\n",
    "                    \"1235678\", \"A5\": \"3468\", \"G9\": \"12345678\", \"B1\": \"5\", \"I3\": \"25678\",\n",
    "                    \"G5\": \"35678\", \"A8\": \"2346\", \"A4\": \"5\", \"F5\": \"1345689\", \"C4\": \"9\",\n",
    "                    \"E1\": \"123689\", \"E4\": \"234678\", \"H5\": \"35678\", \"H9\": \"2345678\", \"C2\":\n",
    "                    \"68\", \"D2\": \"4\", \"B6\": \"1\", \"B8\": \"8\", \"B2\": \"2\", \"G3\": \"245678\",\n",
    "                    \"C8\": \"13456\", \"D5\": \"1356789\", \"I7\": \"9\", \"H2\": \"23568\", \"D9\":\n",
    "                    \"1235678\", \"B4\": \"46\", \"E2\": \"123568\", \"F8\": \"1234569\", \"C5\": \"2\",\n",
    "                    \"E6\": \"23568\", \"G1\": \"1234678\", \"G7\": \"1234568\", \"I8\": \"123567\", \"F1\":\n",
    "                    \"123689\", \"B3\": \"3\", \"H4\": \"1\", \"A1\": \"2468\", \"H6\": \"23568\", \"G6\":\n",
    "                    \"9\", \"B9\": \"9\", \"A3\": \"1\"}"
   ]
  },
  {
   "cell_type": "code",
   "execution_count": 30,
   "metadata": {},
   "outputs": [],
   "source": [
    "def isSolved(values):\n",
    "    \n",
    "    solvedStatus = True\n",
    "    \n",
    "    if type(values) != bool:\n",
    "\n",
    "        for arr in unitlist:\n",
    "            sub_total = 0\n",
    "            for u in arr:\n",
    "                sub_total += int(values[u])\n",
    "            \n",
    "            if sub_total != 45:\n",
    "                solvedStatus = False\n",
    "    else:\n",
    "        print(\"Unsolved!\")\n",
    "    \n",
    "    return solvedStatus"
   ]
  },
  {
   "cell_type": "code",
   "execution_count": 31,
   "metadata": {
    "nbpresent": {
     "id": "c5e155c2-3872-4671-81ce-b0f61e960e61"
    }
   },
   "outputs": [],
   "source": [
    "def eliminate(values):\n",
    "    \n",
    "    \"\"\"if a box is assigned, remove the same value from candidate list of related nbhd boxes\"\"\"\n",
    "    \n",
    "    for key, val in values.items():\n",
    "        if len(val) == 1:      #assigned single value\n",
    "            for related_units_arr in units[key]:\n",
    "                for b in related_units_arr: #scan thru the 3types of units in \"units\"\n",
    "                    if val in values[b] and val != values[b]:\n",
    "                        values[b] = values[b].replace(val, '')\n",
    "                        \n",
    "                        #values = assign_value(values, b, values[b].replace(val, ''))\n",
    "                        \n",
    "    return values"
   ]
  },
  {
   "cell_type": "code",
   "execution_count": 32,
   "metadata": {},
   "outputs": [],
   "source": [
    "def only_choice(values):\n",
    "    \n",
    "    \"\"\"\n",
    "    among related units, identify if anyone of them carry a unique value, assign that box that value if found\n",
    "    \"\"\" \n",
    "\n",
    "    \n",
    "    for box, nhb_units_array in units.items():\n",
    "\n",
    "        possible_val_list = values[box]  # for each unit extract the potential candidate list\n",
    "        #print(box)\n",
    "        \n",
    "        if len(possible_val_list) > 1: # not consider those assigned\n",
    "            \n",
    "            for this_val in possible_val_list:  #iterate thru each candidates\n",
    "                \n",
    "                for nhb_units_row in nhb_units_array:  #nhb_units_array has len of 3 OR 4 if diag\n",
    "                    \n",
    "                    count = 0\n",
    "                    \n",
    "                    for u in nhb_units_row:\n",
    "                        \n",
    "                        if this_val in values[u] and box != u:\n",
    "                            count += 1\n",
    "                            \n",
    "                    if count == 0:                #if there is no other occurance\n",
    "                        values[box] = this_val\n",
    "                        #print(box, this_val)\n",
    "                        \n",
    "                        #values = assign_value(values, box, this_val)\n",
    "                        \n",
    "    return values"
   ]
  },
  {
   "cell_type": "code",
   "execution_count": 33,
   "metadata": {
    "nbpresent": {
     "id": "ae68d1c3-ccd2-4728-9039-916288fd6537"
    }
   },
   "outputs": [],
   "source": [
    "def reduce_puzzle(values):\n",
    "    stalled = False\n",
    "    while not stalled:\n",
    "        # Check how many boxes have a determined value\n",
    "        solved_values_before = len([box for box in values.keys() if len(values[box]) == 1])\n",
    "\n",
    "        # Your code here: Use the Eliminate Strategy\n",
    "        values = eliminate(values)\n",
    "        \n",
    "        # Your code here: Use the Only Choice Strategy\n",
    "        values = only_choice(values)\n",
    "        \n",
    "        # add naked_twins strategy\n",
    "        values = naked_twins(values)\n",
    "        \n",
    "        # Check how many boxes have a determined value, to compare\n",
    "        solved_values_after = len([box for box in values.keys() if len(values[box]) == 1])\n",
    "        # If no new values were added, stop the loop.\n",
    "        stalled = solved_values_before == solved_values_after\n",
    "        # Sanity check, return False if there is a box with zero available values:\n",
    "        if len([box for box in values.keys() if len(values[box]) == 0]):\n",
    "            return False\n",
    "    return values"
   ]
  },
  {
   "cell_type": "code",
   "execution_count": 34,
   "metadata": {
    "nbpresent": {
     "id": "7a3ad514-96a0-4210-98b0-075e5a7d62a5"
    }
   },
   "outputs": [],
   "source": [
    "def search(values):\n",
    "    \"\"\"Apply depth first search to solve Sudoku puzzles in order to solve puzzles\n",
    "    that cannot be solved by repeated reduction alone.\n",
    "\n",
    "    Parameters\n",
    "    ----------\n",
    "    values(dict)\n",
    "        a dictionary of the form {'box_name': '123456789', ...}\n",
    "\n",
    "    Returns\n",
    "    -------\n",
    "    dict or False\n",
    "        The values dictionary with all boxes assigned or False\n",
    "\n",
    "    Notes\n",
    "    -----\n",
    "    You should be able to complete this function by copying your code from the classroom\n",
    "    and extending it to call the naked twins strategy.\n",
    "    \"\"\"\n",
    "    # First, reduce the puzzle using the previous function\n",
    "    values = reduce_puzzle(values)\n",
    "    \n",
    "    # Choose one of the unfilled squares with the fewest possibilities\n",
    "    \n",
    "    status = isSolved(values)\n",
    "    \n",
    "    if status == False: #trial and error approach\n",
    "        \n",
    "        # find the box with fewest possible options\n",
    "        min_box = ''\n",
    "        min_length = 9\n",
    "        for r in row_units:\n",
    "            for u in r:\n",
    "                if type(values) != bool and len(values[u]) > 1 and len(values[u]) < min_length:\n",
    "                    min_box = u\n",
    "                    min_length = len(values[u])\n",
    "        \n",
    "        \n",
    "        #display(values)\n",
    "        if min_box != '': # try different values and continue down the tree\n",
    "            for pos_val in values[min_box]:\n",
    "                    \n",
    "                tmp_values = dict(values) #create temp values, disgard if found to be deadend\n",
    "                \n",
    "                tmp_values[min_box] = pos_val\n",
    "\n",
    "                tmp_val = search(tmp_values)\n",
    "\n",
    "                if type(tmp_val) != bool:\n",
    "                    values = tmp_val\n",
    "                    return values\n",
    "        else:\n",
    "            \n",
    "            status = isSolved(values)\n",
    "            \n",
    "            if status == False:\n",
    "                values = status\n",
    "\n",
    "            return values\n",
    "\n",
    "    else:\n",
    "        #Puzzle should be solved!!!\n",
    "        #display(values)\n",
    "        \n",
    "        if status == False:\n",
    "            values = status\n",
    "        \n",
    "        return values\n",
    "\n",
    "    status = isSolved(values)\n",
    "            \n",
    "    if status == False:\n",
    "        values = status\n",
    "    \n",
    "    return values"
   ]
  },
  {
   "cell_type": "code",
   "execution_count": 35,
   "metadata": {
    "nbpresent": {
     "id": "ae5e96d7-fd61-41d2-a870-0f18efb48468"
    }
   },
   "outputs": [],
   "source": [
    "def naked_twins(values):\n",
    "    \"\"\"Eliminate values using the naked twins strategy.\n",
    "\n",
    "    Parameters\n",
    "    ----------\n",
    "    values(dict)\n",
    "        a dictionary of the form {'box_name': '123456789', ...}\n",
    "\n",
    "    Returns\n",
    "    -------\n",
    "    dict\n",
    "        The values dictionary with the naked twins eliminated from peers\n",
    "\n",
    "    Notes\n",
    "    -----\n",
    "    Your solution can either process all pairs of naked twins from the input once,\n",
    "    or it can continue processing pairs of naked twins until there are no such\n",
    "    pairs remaining -- the project assistant test suite will accept either\n",
    "    convention. However, it will not accept code that does not process all pairs\n",
    "    of naked twins from the original input. (For example, if you start processing\n",
    "    pairs of twins and eliminate another pair of twins before the second pair\n",
    "    is processed then your code will fail the PA test suite.)\n",
    "\n",
    "    The first convention is preferred for consistency with the other strategies,\n",
    "    and because it is simpler (since the reduce_puzzle function already calls this\n",
    "    strategy repeatedly).\n",
    "    \"\"\"\n",
    "\n",
    "    \n",
    "    for unit_key, related_units in units.items():\n",
    "        if len(values[unit_key]) == 2:\n",
    "            for related_units_arr_index in range(len(related_units)): #len could be 3 or 4\n",
    "                \n",
    "                #valid range of naked twins applies to related units ONLY\n",
    "                doubledigit_value = [] #keep track of all occurence of 2-digit entry\n",
    "                doubledigit_unit = []\n",
    "                twins_units = []\n",
    "                twins_value = []   \n",
    "                twins_domain = [] \n",
    "                \n",
    "                \"\"\"\n",
    "                print(unit_key)\n",
    "                print(related_units_arr_index)\n",
    "                print(len(related_units))\n",
    "                print(related_units[related_units_arr_index])\n",
    "                \"\"\"\n",
    "                \n",
    "                for u in related_units[related_units_arr_index]:\n",
    "                    if len(values[u]) == 2:\n",
    "                        if values[u] in doubledigit_value and values[u] not in twins_value: #there is a twin found\n",
    "                            if doubledigit_unit[doubledigit_value.index(values[u])] != u: #a new unit found\n",
    "                                ind = doubledigit_value.index(values[u])\n",
    "\n",
    "                                twins_locs = []\n",
    "                                twins_locs.append(doubledigit_unit[ind])\n",
    "                                twins_locs.append(u)\n",
    "\n",
    "                                twins_units.append(twins_locs)\n",
    "                                twins_value.append(values[u])\n",
    "                                twins_domain.append(related_units_arr_index)\n",
    "\n",
    "                        else:\n",
    "                            doubledigit_value.append(values[u])\n",
    "                            doubledigit_unit.append(u)\n",
    "\n",
    "    \n",
    "                if len(twins_units) > 0 and len(twins_units) == len(twins_value):\n",
    "\n",
    "                    for twin_index in range(len(twins_value)):\n",
    "\n",
    "                        this_twin_locs = twins_units[twin_index] #list\n",
    "                        this_twin_value = twins_value[twin_index] #the value\n",
    "                        this_twin_domain = twins_domain[twin_index]\n",
    "                        #print(this_twin_value, this_twin_locs)\n",
    "\n",
    "                        for t in twins_value[twin_index]:\n",
    "                            for this_twin_loc in this_twin_locs:\n",
    "\n",
    "                                twins_related_units = units[this_twin_loc]\n",
    "\n",
    "                                for u in twins_related_units[this_twin_domain]:\n",
    "\n",
    "                                    if u not in this_twin_locs and t in values[u]:\n",
    "                                        if len(values[u]) > 1 and this_twin_value != values[u]:\n",
    "                                            values[u] = values[u].replace(t,'')\n",
    "\n",
    "    return values"
   ]
  },
  {
   "cell_type": "code",
   "execution_count": 36,
   "metadata": {
    "nbpresent": {
     "id": "e5ecfdc9-45dd-4485-92b2-18152b84449d"
    }
   },
   "outputs": [],
   "source": [
    "def solve(grid):\n",
    "    \"\"\"Find the solution to a Sudoku puzzle using search and constraint propagation\n",
    "\n",
    "    Parameters\n",
    "    ----------\n",
    "    grid(string)\n",
    "        a string representing a sudoku grid.\n",
    "        \n",
    "        Ex. '2.............62....1....7...6..8...3...9...7...6..4...4....8....52.............3'\n",
    "\n",
    "    Returns\n",
    "    -------\n",
    "    dict or False\n",
    "        The dictionary representation of the final sudoku grid or False if no solution exists.\n",
    "    \"\"\"\n",
    "    values = grid2values(grid)\n",
    "    values = search(values)\n",
    "    return values"
   ]
  },
  {
   "cell_type": "code",
   "execution_count": 41,
   "metadata": {
    "nbpresent": {
     "id": "adf40f75-5dc1-4a9c-94ab-dc8e4b6e647f"
    }
   },
   "outputs": [
    {
     "name": "stdout",
     "output_type": "stream",
     "text": [
      "True\n",
      "2 4 9 |8 3 1 |7 5 6 \n",
      "6 1 3 |5 7 2 |8 9 4 \n",
      "8 7 5 |9 4 6 |3 1 2 \n",
      "------+------+------\n",
      "5 9 8 |3 6 7 |2 4 1 \n",
      "4 3 2 |1 8 5 |9 6 7 \n",
      "7 6 1 |2 9 4 |5 8 3 \n",
      "------+------+------\n",
      "9 8 4 |7 1 3 |6 2 5 \n",
      "3 5 6 |4 2 9 |1 7 8 \n",
      "1 2 7 |6 5 8 |4 3 9 \n",
      "\n"
     ]
    }
   ],
   "source": [
    "diag_sudoku_grid1 = '2.............62....1....7...6..8...3...9...7...6..4...4....8....52.............3'\n",
    "diag_sudoku_grid2 = '6....4......7...1........3.....8.....31...59.....7.....2........9...3......6....7'\n",
    "diag_sudoku_grid3 = '.....1..66.....894.7.....1........41..2...9..76........8.....2.356.....81..6.....'\n",
    "\n",
    "naked_twins_grid1 =  '1.4.9..68956.18.34..84.695151.....868..6...1264..8..97781923645495.6.823.6.854179'\n",
    "# naked_twins_grid1 cannot be solved by diagonal sudoku\n",
    "naked_twins_grid2 =  '.915.7...523..1789...92.....4.................7............9......1..........49..'\n",
    "\n",
    "chosenGrid = diag_sudoku_grid3\n",
    "#chosenValue = grid2values(naked_twins_grid1)\n",
    "#chosenValue = nakedTwinsTestValue2\n",
    "#chosenValue = chosenGrid\n",
    "#display(chosenValue)\n",
    "\n",
    "########\n",
    "#result = search(nakedTwinsTestValue2)\n",
    "result = solve(chosenGrid)\n",
    "print(isSolved(result))\n",
    "display(result)\n",
    "\n",
    "#try:\n",
    "#    import PySudoku\n",
    "#    PySudoku.play(grid2values(diag_sudoku_grid), result, history)\n",
    "#\n",
    "#except SystemExit:\n",
    "#    pass\n",
    "#except:\n",
    "#    print('We could not visualize your board due to a pygame issue. Not a problem! It is not a requirement.')\n"
   ]
  },
  {
   "cell_type": "code",
   "execution_count": null,
   "metadata": {},
   "outputs": [],
   "source": []
  },
  {
   "cell_type": "code",
   "execution_count": null,
   "metadata": {},
   "outputs": [],
   "source": []
  },
  {
   "cell_type": "code",
   "execution_count": null,
   "metadata": {
    "nbpresent": {
     "id": "10a7f3ef-c537-430a-9192-2b4a329b583e"
    }
   },
   "outputs": [],
   "source": []
  },
  {
   "cell_type": "code",
   "execution_count": null,
   "metadata": {
    "nbpresent": {
     "id": "997773dc-34f9-4c49-a4a6-6152c3cf32c2"
    }
   },
   "outputs": [],
   "source": []
  },
  {
   "cell_type": "code",
   "execution_count": null,
   "metadata": {
    "nbpresent": {
     "id": "cacd45b6-192b-4614-89f2-c250c7fbbcc8"
    }
   },
   "outputs": [],
   "source": []
  }
 ],
 "metadata": {
  "kernelspec": {
   "display_name": "Python [conda env:aind]",
   "language": "python",
   "name": "conda-env-aind-py"
  },
  "language_info": {
   "codemirror_mode": {
    "name": "ipython",
    "version": 3
   },
   "file_extension": ".py",
   "mimetype": "text/x-python",
   "name": "python",
   "nbconvert_exporter": "python",
   "pygments_lexer": "ipython3",
   "version": "3.6.0"
  }
 },
 "nbformat": 4,
 "nbformat_minor": 2
}
